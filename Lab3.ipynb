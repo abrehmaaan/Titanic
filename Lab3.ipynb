{
 "cells": [
  {
   "cell_type": "markdown",
   "metadata": {
    "editable": false
   },
   "source": [
    "## Lab Session 3\n",
    "\n",
    "## Basics working with data\n",
    "\n",
    "In this notebook we will practice the following \"data science\" steps:\n",
    "1. Handeling of missing values.\n",
    "2. Visualising the data.\n",
    "3. Learning insights from you data.\n",
    "\n",
    "We will not give a complete course in Python, but will expect you to do some self-study. \n",
    "The idea is that you will fill in the answers in this notebook, save it, and upload to to Black Board before the deadline."
   ]
  },
  {
   "cell_type": "markdown",
   "metadata": {
    "editable": false
   },
   "source": [
    "We will use the same data as in the first Lab Session, namely the Titanic data set. \n",
    "To start we will load some libraries again. This time, we will also load the \"seaborn\" library, which is used for creating plots."
   ]
  },
  {
   "cell_type": "code",
   "execution_count": 1,
   "metadata": {
    "editable": false
   },
   "outputs": [],
   "source": [
    "import pandas as pd #importing the pandas library\n",
    "import seaborn as sns #importing seaborn\n",
    "import matplotlib.pyplot as plt\n",
    "import numpy as np\n",
    "%matplotlib inline"
   ]
  },
  {
   "cell_type": "markdown",
   "metadata": {
    "editable": false
   },
   "source": [
    "Note \"%matplotlib inline\". This line tells the notebook to put the plot inside the notebook. This is not used in Python scripts which are executed like \"normal programs\"."
   ]
  },
  {
   "cell_type": "markdown",
   "metadata": {
    "editable": false
   },
   "source": [
    "<div class=\"alert alert-block alert-warning\">\n",
    "\n",
    "## Task 1: Seaborn\n",
    "\n",
    "To illustrate how seaborn plotting works run the following example. Seaborn accesses the columns of a pandas dataframe directly. You only have to specifiy the dataframe and the name of the columns for the plotting axes.\n",
    "\n",
    "</div>"
   ]
  },
  {
   "cell_type": "code",
   "execution_count": 2,
   "metadata": {
    "editable": false
   },
   "outputs": [
    {
     "data": {
      "text/plain": [
       "<AxesSubplot:xlabel='index', ylabel='number'>"
      ]
     },
     "execution_count": 2,
     "metadata": {},
     "output_type": "execute_result"
    },
    {
     "data": {
      "image/png": "[encoded data removed]",
      "text/plain": [
       "<Figure size 432x288 with 1 Axes>"
      ]
     },
     "metadata": {
      "needs_background": "light"
     },
     "output_type": "display_data"
    }
   ],
   "source": [
    "#Generate a random vector sampling from a normal distribution with mean=0, sig=1\n",
    "#and convert in into a pandas dataframe object\n",
    "#we call reset_index() on the new dataframe. This adds a new column to our dataframe, \n",
    "#which can then be accessed by seaborn to plot the data\n",
    "df_random = pd.DataFrame(data=np.random.normal(size=1000),columns = [\"number\"]).reset_index()\n",
    "\n",
    "#We polot the data with seaborn, specifing x and y axis and the datasource (df_random)\n",
    "sns.lineplot(x=\"index\",y=\"number\",data=df_random)"
   ]
  },
  {
   "cell_type": "markdown",
   "metadata": {
    "editable": false
   },
   "source": [
    "<div class=\"alert alert-block alert-warning\">\n",
    "\n",
    "## Task 2: Loading the data\n",
    "\n",
    "2.1. Load the titanic dataset (\"titanic.csv\") contained in this exercise using pandas functions \n",
    "into the variable <i>df_titanic</i>.\n",
    "\n",
    "2.2. We know from the last exercise that the dataset contains missing values. Use the isnull() and sum() method of <i>df_titanic</i> to show which columns have the most missing values.\n",
    "</div>\n"
   ]
  },
  {
   "cell_type": "code",
   "execution_count": 3,
   "metadata": {},
   "outputs": [],
   "source": [
    "#Task 2.1\n",
    "\n",
    "\n",
    "#Task 2.2\n",
    "\n"
   ]
  },
  {
   "cell_type": "markdown",
   "metadata": {
    "editable": false
   },
   "source": [
    "<div class=\"alert alert-block alert-warning\">\n",
    "\n",
    "## Task 3: Imputing missing values\n",
    "\n",
    "Three columns have missing values the most: \"Age\", \"Cabin\", and \"Survived\". \n",
    "Cabin misses approx. 80% of its values. Not the right candidate for simple imputation approaches.\n",
    "We focus on the <strong>Age</strong> column, where about 20% are missing.\n",
    "\n",
    "3.1. Use the <strong>fillna()</strong> method and only impute the Age column with the mean age value(see <strong>mean()</strong> method). Save the result in a new column called \"Age_imp_mean\".\n",
    "\n",
    "3.2. Use the method parameter <b>method=\"ffill\"</b> of the <b>fillna()</b> method to fill missing values by their proceding value. Save the result in a new collumn called \"Age_imp_ffill\".\n",
    "\n",
    "3.3 Plot histogramms of both columns using seaborn and the <strong>distplot()</strong> function, with parameters <b>hist=True</b>, <b>kde=False</b> and <b>bins=40</b>. Also plot the standard Age column for comparision (use the dropna() to avoid error generation). Put everything into one plot.\n",
    "\n",
    "3.4 Plot boxplots of both columns. The buildin method of the data frame <i>df_titanic</i> can be used for this. Here we want to use seaborn's boxplot function with the <strong>data=</strong> parameter.\n",
    "\n",
    "3.5 Explain what the different parts of the boxplot are:\n",
    "* Horizontal line whitin the colored area\n",
    "* Width of the colored area\n",
    "* With of the Area between the two horizontal lines below and above the colored area (\"whiskers\")\n",
    "* Dots or points above and below the wiskers.\n",
    "\n",
    "3.6 Explain what effect each imputation strategy had:\n",
    "* using the histogramm - When we analyse the survival of patients with a specific age, lets say the ages close to the mean. Can we trust that the mean survial rate is accurate for that age bracket? Why or Why not?  \n",
    "* using the boxplot - When we want to find outliers in regards to age, what method would yield more passengers? Why is that the case? (hint: How is an outlier defined in (seaborn) box-plots?).\n",
    "</div>\n"
   ]
  },
  {
   "cell_type": "code",
   "execution_count": 4,
   "metadata": {},
   "outputs": [
    {
     "data": {
      "text/plain": [
       "'\\nWrite your answer here.\\n\\n\\n'"
      ]
     },
     "execution_count": 4,
     "metadata": {},
     "output_type": "execute_result"
    },
    {
     "data": {
      "text/plain": [
       "<Figure size 432x288 with 0 Axes>"
      ]
     },
     "metadata": {},
     "output_type": "display_data"
    },
    {
     "data": {
      "text/plain": [
       "<Figure size 432x288 with 0 Axes>"
      ]
     },
     "metadata": {},
     "output_type": "display_data"
    }
   ],
   "source": [
    "#Task 3.1\n",
    "#Your code\n",
    "\n",
    "\n",
    "\n",
    "#Task 3.2\n",
    "#Your code\n",
    "\n",
    "\n",
    "\n",
    "#Task 3.3\n",
    "plt.figure(1)\n",
    "#Your code\n",
    "\n",
    "\n",
    "\n",
    "#Task 3.4\n",
    "plt.figure(2)\n",
    "#Your code\n",
    "\n",
    "\n",
    "\n",
    "\n",
    "#Task 3.5\n",
    "\"\"\"\n",
    "Write your answer here.\n",
    "\n",
    "\n",
    "\"\"\"\n",
    "\n",
    "\n",
    "\n",
    "#Task 3.6\n",
    "\"\"\"\n",
    "Write your answer here.\n",
    "\n",
    "\n",
    "\"\"\""
   ]
  },
  {
   "cell_type": "markdown",
   "metadata": {
    "editable": false
   },
   "source": [
    "<div class=\"alert alert-block alert-warning\">\n",
    "\n",
    "## Task 4\n",
    "\n",
    "(from https://www.kaggle.com/c/titanic) The sinking of the RMS Titanic is one of the most infamous shipwrecks in history.  On April 15, 1912, during her maiden voyage, the Titanic sank after colliding with an iceberg, killing 1502 out of 2224 passengers and crew. This sensational tragedy shocked the international community and led to better safety regulations for ships. One of the reasons that the shipwreck led to such loss of life was that there were not enough lifeboats for the passengers and crew. Although there was some element of luck involved in surviving the sinking, some groups of people were more likely to survive than others... let's see if we can figure out which ones.\n",
    "\n",
    "\n",
    "First lets explore the data a bit further:\n",
    "* 4.1 Use the <strong>catplot()</strong> function in pandas to make a scatterplot of \"Fare\" vs. \"Age\", colored by \"Survived\" (hue parameter) and split by \"Sex\"(col parameter). Is Age correlated with Fare? Do passengers who pay more have a better chance of survival? Is that always true?\n",
    "\n",
    "* 4.2 Plot \"Pclass\" vs. \"Fare\" colored by Sex using a boxplot. Anything unusual besides higher fares for higher classes?\n",
    "\n",
    "* 4.3 How is the survival rate of passengers(colored by \"Sex\") in the different classes (\"Pclass\")? Make a barplot.\n",
    "\n",
    "</div>"
   ]
  },
  {
   "cell_type": "code",
   "execution_count": 5,
   "metadata": {},
   "outputs": [
    {
     "data": {
      "text/plain": [
       "<Figure size 432x288 with 0 Axes>"
      ]
     },
     "execution_count": 5,
     "metadata": {},
     "output_type": "execute_result"
    },
    {
     "data": {
      "text/plain": [
       "<Figure size 432x288 with 0 Axes>"
      ]
     },
     "metadata": {},
     "output_type": "display_data"
    },
    {
     "data": {
      "text/plain": [
       "<Figure size 432x288 with 0 Axes>"
      ]
     },
     "metadata": {},
     "output_type": "display_data"
    },
    {
     "data": {
      "text/plain": [
       "<Figure size 432x288 with 0 Axes>"
      ]
     },
     "metadata": {},
     "output_type": "display_data"
    }
   ],
   "source": [
    "#Task 4.1\n",
    "plt.figure(3)\n",
    "#Your code\n",
    "\n",
    "\n",
    "\n",
    "\"\"\"\n",
    "Write your answer to the question here.\n",
    "\n",
    "\"\"\"\n",
    "\n",
    "\n",
    "\n",
    "#Task 4.2\n",
    "plt.figure(5)\n",
    "#Your code\n",
    "\n",
    "\n",
    "\n",
    "\"\"\"\n",
    "Write your answer to the question here.\n",
    "\n",
    "\"\"\"\n",
    "\n",
    "\n",
    "\n",
    "#Task 4.3\n",
    "plt.figure(6)\n",
    "#Your code\n",
    "\n"
   ]
  },
  {
   "cell_type": "markdown",
   "metadata": {
    "editable": false
   },
   "source": [
    "<div class=\"alert alert-block alert-warning\">\n",
    "\n",
    "## Task 5\n",
    "\n",
    "\n",
    "Survival seems to be correlated with the passenger class. Looking at the plot of Task 4.3, something is unusual about the survival rate of female passengers in the third class given that the doctrin \"Women and children first\" was prevalent a hundred years back. But first, lets look at the survival rate of children, passengers under the age of 14.\n",
    "\n",
    "* 5.1 Plot Pclass vs Survived using a <strong>barplot()</strong> for passengers under the age of 14. Color by \"Sex\". What do you see?\n",
    "* 5.2 Plot Pclass vs Survived using a <strong>barplot()</strong> for passengers abover or equal the age of 14. Color by \"Sex\". What do you see?\n",
    "* 5.3 Plot number of male and female children in each class using <strong>countplot()</strong>.\n",
    "* 5.4 Given this three points of information, did \"Women and children first\" also apply to the third class? If so, why do you think female passengers (all ages) hat a much lower survival rate then in other classes? Hint: Think about the number of available life boats and where are the lower class decks located?\n",
    "\n",
    "</div>"
   ]
  },
  {
   "cell_type": "code",
   "execution_count": null,
   "metadata": {
    "scrolled": true
   },
   "outputs": [],
   "source": [
    "#Task 5.1\n",
    "plt.figure(7)\n",
    "#Your code\n",
    "\n",
    "\"\"\"\n",
    "Your answer to the question here.\n",
    "\n",
    "\"\"\"\n",
    "\n",
    "\n",
    "\n",
    "#Task 5.2\n",
    "plt.figure(8)\n",
    "#Your code\n",
    "\n",
    "\n",
    "\"\"\"\n",
    "Your answer to the question here.\n",
    "\n",
    "\"\"\"\n",
    "\n",
    "\n",
    "\n",
    "#Task 5.3\n",
    "plt.figure(9)\n",
    "#Your code\n",
    "\n",
    "\n",
    "\n",
    "\n",
    "#Task 5.4\n",
    "\"\"\"\n",
    "Your answer to the question here.\n",
    "\n",
    "\n",
    "\"\"\""
   ]
  },
  {
   "cell_type": "markdown",
   "metadata": {
    "editable": false
   },
   "source": [
    "<div class=\"alert alert-block alert-warning\">\n",
    "\n",
    "## Task 6\n",
    "\n",
    "\n",
    "Most of the lifeboats where on Deck A. Lets investigate the implication for the survival of the passengers.\n",
    "As we have seen, most of the cabin data is missing. Nonetheless, lets see if we can still extract some information.\n",
    "\n",
    "6.1 What percentage of Cabin values missing in each Pclass? Use isnull() and value_counts() to find it out!\n",
    "\n",
    "It seems the first class only has about 20% missing values! Lets continue our investigation!\n",
    "\n",
    "* 6.2 Drop all rows with missing Cabin values. Save the result in the variable <i>df_titanic_nona</i>\n",
    "* 6.3 Extract the first letter of each entry in the Cabin column. Save the result in a new column called \"Level\" in the <i>df_titanic_nona</i> data frame\n",
    "* 6.4 Plot Fare by Level using a <strong>barplot()</strong> of the first class Passengers. What is the level with the lowest average fare(ignoring level T)? Does that make sense to you given the location?\n",
    "\n",
    "6.5 What is the survival rate by level? (lifeboards were located on deck A (prominade deck)) Anything unusual about deck A?\n",
    "\n",
    "6.6 What is the ratio of male to female passengers on each deck? Use a barplot to illustrate. Does it explain the survival rate for deck A?\n",
    "\n",
    "\n",
    "\n",
    "</div>"
   ]
  },
  {
   "cell_type": "code",
   "execution_count": null,
   "metadata": {},
   "outputs": [],
   "source": [
    "#Task 6.1\n",
    "#Your code\n",
    "\n",
    "\n",
    "\n",
    "#Task 6.2\n",
    "#Your code\n",
    "\n",
    "\n",
    "\n",
    "#Task 6.3\n",
    "#Your code\n",
    "\n",
    "\n",
    "#Task 6.4\n",
    "plt.figure(10)\n",
    "#Your code\n",
    "\n",
    "\n",
    "\"\"\"\n",
    "Your answer to the question here.\n",
    "\n",
    "\"\"\"\n",
    "\n",
    "#Task 6.5 \n",
    "plt.figure(11)\n",
    "#Your code\n",
    "\n",
    "\n",
    "\"\"\"\n",
    "Your answer to the question here.\n",
    "\n",
    "\"\"\"\n",
    "#Task 6.6\n",
    "plt.figure(12)\n",
    "#Your code\n",
    "\n",
    "\n",
    "\"\"\"\n",
    "Your answer to the question here.\n",
    "\n",
    "\"\"\"\n",
    "\n",
    "\n"
   ]
  },
  {
   "cell_type": "markdown",
   "metadata": {
    "editable": false
   },
   "source": [
    "<div class=\"alert alert-block alert-warning\">\n",
    "\n",
    "## Task 7\n",
    "\n",
    "\n",
    "Now it is time to show our resourcefullness! We don't know the fate for some of the passengers on deck A! Sometimes we need to consult other sources of data, outside what we are presented with, to fill in the gaps!\n",
    "\n",
    "7.1 Save passenger data of level A into the variable <i>df_deckA</i>. Only save the columns \"Cabin\", \"Name\", \"Survived\" and \"Age\". Sort by \"Cabin\" and print the dataframe (.head())\n",
    "\n",
    "7.2 Use online recources, search for the names of the passengers with missing values in the survived column and find out if their survived! provide next to each name if they survived (1) or died (0).\n",
    "\n",
    "\n",
    "</div>"
   ]
  },
  {
   "cell_type": "code",
   "execution_count": null,
   "metadata": {},
   "outputs": [],
   "source": [
    "\n",
    "#Task 7.1\n",
    "#Your code\n",
    "\n",
    "\n",
    "\n",
    "\n",
    "#7.2\n",
    "#Rosenbaum, Miss. Edith Louise        : \n",
    "#Dulles, Mr. William Crothers         : \n",
    "#Brady, Mr. John Bertram              : \n",
    "#Evans, Miss. Edith Corse             : \n",
    "#Dodge, Dr. Washington                : \n",
    "#Dodge, Mrs. Washington(Ruth Vidaver) : \n",
    "#Chevre, Mr. Paul Romaine             : "
   ]
  }
 ],
 "metadata": {
  "celltoolbar": "Edit Metadata",
  "kernelspec": {
   "display_name": "Python 3 (ipykernel)",
   "language": "python",
   "name": "python3"
  },
  "language_info": {
   "codemirror_mode": {
    "name": "ipython",
    "version": 3
   },
   "file_extension": ".py",
   "mimetype": "text/x-python",
   "name": "python",
   "nbconvert_exporter": "python",
   "pygments_lexer": "ipython3",
   "version": "3.9.12"
  }
 },
 "nbformat": 4,
 "nbformat_minor": 2
}
